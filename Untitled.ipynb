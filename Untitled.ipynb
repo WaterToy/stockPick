{
 "cells": [
  {
   "cell_type": "code",
   "execution_count": 1,
   "source": [
    "import os\r\n",
    "import requests\r\n",
    "import json\r\n",
    "import csv\r\n",
    "import re\r\n",
    "from time import sleep"
   ],
   "outputs": [],
   "metadata": {}
  },
  {
   "cell_type": "code",
   "execution_count": null,
   "source": [
    "class stockDataDownload(object):\r\n",
    "    def __init__(self):\r\n",
    "        # 当前文件所处目录\r\n",
    "        self.path = os.path.abspath(os.getcwd())\r\n",
    "        # 所有股票代码API\r\n",
    "        self.tick_code_api = 'https://api.doctorxiong.club/v1/stock/all'\r\n",
    "        # 股票历史交易数据API（网易财经）\r\n",
    "        self.tick_his_api = 'http://quotes.money.163.com/service/chddata.html'\r\n",
    "\r\n",
    "\r\n",
    "    def stock_code_save(self, dirname):\r\n",
    "        try:\r\n",
    "            if not os.path.exists(dirname):\r\n",
    "                print ('文件夹', dirname, '不存在，已重新建立')\r\n",
    "                os.makedirs(dirname)\r\n",
    "\r\n",
    "            # 所有股票代码数据存储文件名称\r\n",
    "            all_stock_code = 'all_stock_code.csv'\r\n",
    "            filepath = os.path.join(dirname, all_stock_code)\r\n",
    "\r\n",
    "            html = requests.get(self.tick_code_api).text\r\n",
    "            content = json.loads(html)\r\n",
    "\r\n",
    "            with open (filepath, 'w') as w:\r\n",
    "                w.write('StockCode,StockName\\n')\r\n",
    "                for i in content['data']:\r\n",
    "                    t = i[0] + ',' + i[1] + '\\n'\r\n",
    "                    w.write(t)\r\n",
    "            w.close()\r\n",
    "            print('已完成所有股票代码下载')\r\n",
    "\r\n",
    "        except IOError as e:\r\n",
    "            print ('文件操作失败',e)\r\n",
    "        except Exception as e:\r\n",
    "            print ('错误 ：',e)\r\n",
    "\r\n",
    "    def tick_his_download(self, stickcode, dirname):\r\n",
    "        '''\r\n",
    "        下载指定代码股票从1990.01.01开始的日K数据\r\n",
    "        接口采用网易财经接口：'http://quotes.money.163.com/service/chddata.html?code=0601012&start=20120411&end=20210908&fields=TCLOSE;HIGH;LOW;TOPEN;LCLOSE;CHG;PCHG;TURNOVER;VOTURNOVER;VATURNOVER;TCAP;MCAP'\r\n",
    "        code: 股票代码\r\n",
    "        start/end：开始日期/结束日期\r\n",
    "        fields:具体下载的字段\r\n",
    "            TCLOSE：当日收盘价\r\n",
    "            HIGH：当日最高价\r\n",
    "            LOW：当日最低价\r\n",
    "            TOPEN：当日开盘价\r\n",
    "            LCLOSE：昨日收盘价\r\n",
    "            CHG：涨跌额\r\n",
    "            PCHG：涨跌幅\r\n",
    "            TURNOVER：换手率\r\n",
    "            VOTURNOVER：成交量\r\n",
    "            VATURNOVER：成交额\r\n",
    "            TCAP：总市值\r\n",
    "            MCAP：流通市值\r\n",
    "        '''\r\n",
    "        try:\r\n",
    "            print(os.getcwd())\r\n",
    "            if not os.path.exists(dirname):\r\n",
    "                print ('文件夹', dirname, '不存在，已重新建立')\r\n",
    "                os.makedirs(dirname)\r\n",
    "\r\n",
    "            # 下载股票数据\r\n",
    "            param = {\r\n",
    "                'code': stickcode,\r\n",
    "                'start': '19900101',\r\n",
    "                'fields': 'TCLOSE;HIGH;LOW;TOPEN;LCLOSE;CHG;PCHG;TURNOVER;VOTURNOVER;VATURNOVER;TCAP;MCAP'\r\n",
    "            }\r\n",
    "            print('开始下载股票', stickcode, '...')\r\n",
    "            response = requests.get(self.tick_his_api, params=param)\r\n",
    "            if response.status_code!=200:\r\n",
    "                print('股票', stickcode, '下载失败，开始下一个任务...')\r\n",
    "                return\r\n",
    "            filepath = os.path.join(dirname, stickcode+'.csv')\r\n",
    "            with open(filepath, mode='wb') as w:\r\n",
    "                w.write(response.text.encode('utf8'))\r\n",
    "            w.close()\r\n",
    "            print('已正常存储', filepath)\r\n",
    "\r\n",
    "        except IOError as e:\r\n",
    "            print ('文件操作失败',e)\r\n",
    "        except Exception as e:\r\n",
    "            print ('错误 ：',e)\r\n",
    "\r\n",
    "    # 获取当前路径，文件夹，文件\r\n",
    "    def get_file_info(self, file_dir):\r\n",
    "        for root, dirs, files in os.walk(file_dir):\r\n",
    "            # print(root)\r\n",
    "            # print(dirs)\r\n",
    "            # print(files)\r\n",
    "            pass\r\n",
    "        return root, dirs, files\r\n",
    "\r\n",
    "    # 删除路径下的小文件（文件大小小于0.17k）\r\n",
    "    def remove_blank_csv(self, path):\r\n",
    "        for root, dirs, files in os.walk(path):\r\n",
    "            pass\r\n",
    "        for file in files:\r\n",
    "            filepath = os.path.join(root, file)\r\n",
    "            if os.path.getsize(filepath)/1024 < 0.17:\r\n",
    "                os.remove(filepath)\r\n",
    "\r\n"
   ],
   "outputs": [],
   "metadata": {}
  },
  {
   "cell_type": "code",
   "execution_count": null,
   "source": [
    "# 调试\r\n",
    "# 检测已下载的跳过，继续下载后续数据\r\n",
    "\r\n",
    "sdd = stockDataDownload()\r\n",
    "# sdd.stock_code_save(dirname='dataDownload')\r\n",
    "\r\n",
    "# 切换到数据存储文件夹，读取所有股票代码数据\r\n",
    "os.chdir(os.path.join(os.path.abspath(os.path.dirname(os.getcwd())), 'dataDownload'))\r\n",
    "print(os.getcwd())\r\n",
    "# 提出已下载数据内的空文件\r\n",
    "sdd.remove_blank_csv(os.getcwd())\r\n",
    "stockCodefile = os.path.join(os.getcwd(), 'all_stock_code.csv')\r\n",
    "# 获取已下载的数据\r\n",
    "root, dirs, files = sdd.get_file_info(os.getcwd())\r\n",
    "\r\n",
    "\r\n",
    "# 切换到项目根目录\r\n",
    "os.chdir(os.path.dirname(os.getcwd()))\r\n",
    "with open(stockCodefile, mode='r') as r:\r\n",
    "    f_csv = csv.reader(r)\r\n",
    "    for row in f_csv:\r\n",
    "        if row[0]=='StockCode' or '0'+row[0][2:]+'.csv' in files:\r\n",
    "            print('0'+row[0][2:]+'.csv', '已存在')\r\n",
    "            continue\r\n",
    "        print('当前目标股票：', row)\r\n",
    "        sdd.tick_his_download(stickcode='0'+row[0][2:], dirname='dataDownload')\r\n",
    "        sleep(2)\r\n",
    "r.close()"
   ],
   "outputs": [
    {
     "output_type": "stream",
     "name": "stdout",
     "text": [
      "D:\\个人\\Python学习\\AutoStock\\DataCollect\n"
     ]
    }
   ],
   "metadata": {}
  },
  {
   "cell_type": "code",
   "execution_count": null,
   "source": [
    "sdd = stockDataDownload()\r\n",
    "# os.chdir(os.path.join(os.path.abspath(os.path.dirname(os.getcwd())), 'dataDownload'))\r\n",
    "print(os.getcwd())\r\n",
    "root, dirs, files = sdd.get_file_info(os.getcwd())\r\n",
    "print(root, dirs, files)\r\n",
    "'''size1 = os.path.getsize(os.path.join(root, '0000760.csv'))/1024  # Kb\r\n",
    "size2 = os.path.getsize(os.path.join(root, '0688187.csv'))/1024  # Kb\r\n",
    "print(size1,size2)'''\r\n",
    "'''# 删除空文件\r\n",
    "for file in files:\r\n",
    "    filepath = os.path.join(root, file)\r\n",
    "    if os.path.getsize(filepath)/1024 < 0.17:\r\n",
    "        os.remove(filepath)'''\r\n",
    "        "
   ],
   "outputs": [
    {
     "output_type": "stream",
     "name": "stdout",
     "text": [
      "c:\\Users\\Chenc\\OneDrive - whut.edu.cn\\个人\\AutoStock\\DataCollect\n",
      "c:\\Users\\Chenc\\OneDrive - whut.edu.cn\\个人\\AutoStock\\DataCollect\\.ipynb_checkpoints [] ['Untitled-checkpoint.ipynb']\n"
     ]
    },
    {
     "output_type": "execute_result",
     "data": {
      "text/plain": [
       "'# 删除空文件\\nfor file in files:\\n    filepath = os.path.join(root, file)\\n    if os.path.getsize(filepath)/1024 < 0.17:\\n        os.remove(filepath)'"
      ]
     },
     "metadata": {},
     "execution_count": 5
    }
   ],
   "metadata": {}
  },
  {
   "cell_type": "code",
   "execution_count": 2,
   "source": [
    "# 获取除权数据\r\n",
    "\r\n",
    "url = 'http://quotes.money.163.com/f10/fhpg_600066.html'\r\n",
    "html = requests.get(url=url).text"
   ],
   "outputs": [],
   "metadata": {}
  },
  {
   "cell_type": "code",
   "execution_count": null,
   "source": [
    "url2 = 'http://quotes.money.163.com/f10/fhpg_688819.html'\r\n",
    "html2 = requests.get(url2).text\r\n",
    "print(html2)"
   ],
   "outputs": [],
   "metadata": {}
  },
  {
   "cell_type": "code",
   "execution_count": 8,
   "source": [
    "# print(html2)\r\n",
    "fhpg_pattern = '分红年度(.*?)<span class=\"name\">配股一览</span>'\r\n",
    "pgyl_pattern = '<span class=\"name\">配股一览</span>(.*?)<span class=\"name\">增发一览</span>'\r\n",
    "zfyl_pattern = '<span class=\"name\">增发一览</span>(.*?)<span class=\"name\">历年融资计划</span>'\r\n",
    "\r\n",
    "fhpg_content = re.findall(pattern=fhpg_pattern,string=html2,flags=re.S)[0]\r\n",
    "pgyl_content = re.findall(pattern=pgyl_pattern, string=html2, flags=re.S)[0]\r\n",
    "zfyl_content = re.findall(pattern=zfyl_pattern, string=html2, flags=re.S)[0]\r\n",
    "\r\n",
    "fhpg_detail_pattern = \"<tr class=.*?'align_c'>(.*?)</td><td class='align_c'>(.*?)</td><td>(.*?)</td><td>(.*?)</td><td>(.*?)</td><td class='align_c'>(.*?)</td><td class='align_c'>(.*?)</td><td class='align_c'>(.*?)</td></tr>\"\r\n",
    "pgyl_detail_pattern = \"<tr class=.*?'align_c'>(.*?)</td><td>(.*?)</td><td>(.*?)</td><td>(.*?)</td><td>(.*?)</td><td>(.*?)</td><td>(.*?)</td><td class='align_c'>(.*?)</td></tr>\"\r\n",
    "zfyl_detail_pattern = \"<tr class=.*?'align_c'>(.*?)</td><td>(.*?)</td><td>(.*?)</td><td>(.*?)</td><td>(.*?)</td><td class='breakline'>(.*?)</td><td class='align_c'>(.*?)</td><td class='align_c'>(.*?)</td></tr>\"\r\n",
    "\r\n",
    "fhpg_details = re.findall(pattern=fhpg_detail_pattern, string=fhpg_content)\r\n",
    "pgyl_details = re.findall(pattern=pgyl_detail_pattern, string=pgyl_content)\r\n",
    "zfyl_details = re.findall(pattern=zfyl_detail_pattern, string=zfyl_content)\r\n"
   ],
   "outputs": [],
   "metadata": {}
  },
  {
   "cell_type": "code",
   "execution_count": 9,
   "source": [
    "print(fhpg_details)\r\n",
    "print(pgyl_details)\r\n",
    "print(zfyl_details)\r\n"
   ],
   "outputs": [
    {
     "output_type": "stream",
     "name": "stdout",
     "text": [
      "[('2021-05-15', '2020', '--', '--', '6.00', '2021-05-20', '2021-05-21', '--')]\n",
      "[]\n",
      "[]\n"
     ]
    }
   ],
   "metadata": {}
  },
  {
   "cell_type": "code",
   "execution_count": 48,
   "source": [
    "# 访问网易财经的url，获取相关HTML信息，解析后存储为json文件\r\n",
    "def Get_fhpg_info(tick_code, delay_time):\r\n",
    "    # tick_code: 股票编码\r\n",
    "    # delay_time: 延时时间\r\n",
    "    # data_save_path: 分红信息存储文件绝对路径\r\n",
    "    # URL: http://quotes.money.163.com/f10/fhpg_ + tick_code + .html\r\n",
    "    sleep(1)\r\n",
    "\r\n",
    "    url = 'http://quotes.money.163.com/f10/fhpg_'+tick_code+'.html'\r\n",
    "    html = requests.get(url).text\r\n",
    "\r\n",
    "    fhpg_pattern = '分红年度(.*?)<span class=\"name\">配股一览</span>'\r\n",
    "    pgyl_pattern = '<span class=\"name\">配股一览</span>(.*?)<span class=\"name\">增发一览</span>'\r\n",
    "    zfyl_pattern = '<span class=\"name\">增发一览</span>(.*?)<span class=\"name\">历年融资计划</span>'\r\n",
    "\r\n",
    "    fhpg_content = re.findall(pattern=fhpg_pattern,string=html,flags=re.S)[0]\r\n",
    "    pgyl_content = re.findall(pattern=pgyl_pattern, string=html, flags=re.S)[0]\r\n",
    "    zfyl_content = re.findall(pattern=zfyl_pattern, string=html, flags=re.S)[0]\r\n",
    "\r\n",
    "    fhpg_detail_pattern = \"<tr class=.*?'align_c'>(.*?)</td><td class='align_c'>(.*?)</td><td>(.*?)</td><td>(.*?)</td><td>(.*?)</td><td class='align_c'>(.*?)</td><td class='align_c'>(.*?)</td><td class='align_c'>(.*?)</td></tr>\"\r\n",
    "    pgyl_detail_pattern = \"<tr class=.*?'align_c'>(.*?)</td><td>(.*?)</td><td>(.*?)</td><td>(.*?)</td><td>(.*?)</td><td>(.*?)</td><td>(.*?)</td><td class='align_c'>(.*?)</td></tr>\"\r\n",
    "    zfyl_detail_pattern = \"<tr class=.*?'align_c'>(.*?)</td><td>(.*?)</td><td>(.*?)</td><td>(.*?)</td><td>(.*?)</td><td class='breakline'>(.*?)</td><td class='align_c'>(.*?)</td><td class='align_c'>(.*?)</td></tr>\"\r\n",
    "\r\n",
    "    fhpg_details = re.findall(pattern=fhpg_detail_pattern, string=fhpg_content)\r\n",
    "    pgyl_details = re.findall(pattern=pgyl_detail_pattern, string=pgyl_content)\r\n",
    "    zfyl_details = re.findall(pattern=zfyl_detail_pattern, string=zfyl_content)\r\n",
    "\r\n",
    "\r\n",
    "    # 分红配股的Key值\r\n",
    "    fhpg_keys = ['公告日期', '分红年度', '10股送股', '10股转增', '10股派息', '股权登记日', '红股上市日']\r\n",
    "    # 配股一览的Key值\r\n",
    "    pgyl_keys = ['公告日期', '配股方案', '配股价', '配股对象', '实际配股数', '配股前总股本', '实际配股比例', '配股上市日']\r\n",
    "    # 增发一览的Key值\r\n",
    "    zfyl_keys = ['公告日期', '融资类型', '发行数量（万股）', '募资总额（万元）', '发行价格', '发行方式', '股权登记日', '新股上市日']\r\n",
    "\r\n",
    "    fhpg_info_list = []\r\n",
    "    pgyl_info_list = []\r\n",
    "    zfyl_info_list = []\r\n",
    "\r\n",
    "    for info in fhpg_details:\r\n",
    "        fhpg_info = dict(zip(fhpg_keys, info))\r\n",
    "        fhpg_info_list.append(fhpg_info)\r\n",
    "    \r\n",
    "    for info in pgyl_details:\r\n",
    "        pgyl_info = dict(zip(pgyl_keys, info))\r\n",
    "        pgyl_info_list.append(pgyl_info)\r\n",
    "\r\n",
    "    for info in zfyl_details:\r\n",
    "        zfyl_info = dict(zip(zfyl_keys, info))\r\n",
    "        zfyl_info_list.append(zfyl_info)\r\n",
    "    \r\n",
    "    fh_info_keys = ['分红配股', '配股一览', '增发一览']\r\n",
    "    fh_info = dict(zip(fh_info_keys, (fhpg_info_list, pgyl_info_list, zfyl_info_list)))\r\n",
    "\r\n",
    "    return fh_info\r\n",
    "    \r\n",
    "\r\n",
    "    "
   ],
   "outputs": [],
   "metadata": {}
  },
  {
   "cell_type": "code",
   "execution_count": null,
   "source": [
    "param = {\r\n",
    "    'code': '000024',\r\n",
    "    'start': '19900101',\r\n",
    "    'fields': 'TCLOSE;HIGH;LOW;TOPEN;LCLOSE;CHG;PCHG;TURNOVER;VOTURNOVER;VATURNOVER;TCAP;MCAP'\r\n",
    "}\r\n",
    "response = requests.get('http://quotes.money.163.com/service/chddata.html', params=param)"
   ],
   "outputs": [],
   "metadata": {}
  },
  {
   "cell_type": "code",
   "execution_count": 49,
   "source": [
    "# info = Get_fhpg_info(tick_code='000024', delay_time=10, data_save_path='1')\r\n",
    "info2 = Get_fhpg_info(tick_code='600066', delay_time=10, data_save_path='1')"
   ],
   "outputs": [
    {
     "output_type": "stream",
     "name": "stdout",
     "text": [
      "[{'公告日期': '2021-05-17', '分红年度': '2020', '10股送股': '--', '10股转增': '--', '10股派息': '5.00', '股权登记日': '2021-05-20', '红股上市日': '2021-05-21'}, {'公告日期': '2020-05-14', '分红年度': '2019', '10股送股': '--', '10股转增': '--', '10股派息': '10.00', '股权登记日': '2020-05-19', '红股上市日': '2020-05-20'}, {'公告日期': '2019-05-09', '分红年度': '2018', '10股送股': '--', '10股转增': '--', '10股派息': '5.00', '股权登记日': '2019-05-14', '红股上市日': '2019-05-15'}, {'公告日期': '2018-07-20', '分红年度': '2017', '10股送股': '--', '10股转增': '--', '10股派息': '5.00', '股权登记日': '2018-07-26', '红股上市日': '2018-07-27'}, {'公告日期': '2017-06-06', '分红年度': '2016', '10股送股': '--', '10股转增': '--', '10股派息': '10.00', '股权登记日': '2017-06-13', '红股上市日': '2017-06-14'}, {'公告日期': '2016-05-13', '分红年度': '2015', '10股送股': '--', '10股转增': '--', '10股派息': '15.00', '股权登记日': '2016-05-20', '红股上市日': '2016-05-23'}, {'公告日期': '2015-05-14', '分红年度': '2014', '10股送股': '0', '10股转增': '5', '10股派息': '10.00', '股权登记日': '2015-05-19', '红股上市日': '2015-05-20'}, {'公告日期': '2014-05-20', '分红年度': '2013', '10股送股': '--', '10股转增': '--', '10股派息': '5.00', '股权登记日': '2014-05-23', '红股上市日': '2014-05-26'}, {'公告日期': '2013-05-09', '分红年度': '2012', '10股送股': '0', '10股转增': '8', '10股派息': '7.00', '股权登记日': '2013-05-14', '红股上市日': '2013-05-15'}, {'公告日期': '2012-05-03', '分红年度': '2011', '10股送股': '0', '10股转增': '0', '10股派息': '3.00', '股权登记日': '2012-05-08', '红股上市日': '2012-05-09'}, {'公告日期': '2011-05-10', '分红年度': '2010', '10股送股': '0', '10股转增': '0', '10股派息': '3.00', '股权登记日': '2011-05-13', '红股上市日': '2011-05-16'}, {'公告日期': '2010-05-12', '分红年度': '2009', '10股送股': '0', '10股转增': '0', '10股派息': '10.00', '股权登记日': '2010-05-17', '红股上市日': '2010-05-18'}, {'公告日期': '2009-05-11', '分红年度': '2008', '10股送股': '0', '10股转增': '0', '10股派息': '6.00', '股权登记日': '2009-05-14', '红股上市日': '2009-05-15'}, {'公告日期': '2008-05-09', '分红年度': '2007', '10股送股': '0', '10股转增': '3', '10股派息': '7.00', '股权登记日': '2008-05-14', '红股上市日': '2008-05-15'}, {'公告日期': '2007-03-30', '分红年度': '2006', '10股送股': '0', '10股转增': '0', '10股派息': '5.00', '股权登记日': '2007-04-04', '红股上市日': '2007-04-05'}, {'公告日期': '2006-04-14', '分红年度': '2005', '10股送股': '0', '10股转增': '5', '10股派息': '10.00', '股权登记日': '2006-04-19', '红股上市日': '2006-04-20'}, {'公告日期': '2005-04-13', '分红年度': '2004', '10股送股': '0', '10股转增': '3', '10股派息': '5.00', '股权登记日': '2005-04-18', '红股上市日': '2005-04-19'}, {'公告日期': '2004-04-09', '分红年度': '2003', '10股送股': '0', '10股转增': '5', '10股派息': '4.00', '股权登记日': '2004-04-14', '红股上市日': '2004-04-15'}, {'公告日期': '2002-04-08', '分红年度': '2001', '10股送股': '0', '10股转增': '0', '10股派息': '6.00', '股权登记日': '2002-04-11', '红股上市日': '2002-04-12'}, {'公告日期': '2001-07-03', '分红年度': '2000', '10股送股': '0', '10股转增': '0', '10股派息': '6.00', '股权登记日': '2001-07-09', '红股上市日': '2001-07-10'}, {'公告日期': '1999-06-30', '分红年度': '1998', '10股送股': '0', '10股转增': '0', '10股派息': '5.00', '股权登记日': '1999-07-05', '红股上市日': '1999-07-06'}, {'公告日期': '1998-10-06', '分红年度': '1998', '10股送股': '0', '10股转增': '3', '10股派息': '0.00', '股权登记日': '1998-10-09', '红股上市日': '1998-10-12'}, {'公告日期': '1998-06-02', '分红年度': '1997', '10股送股': '0', '10股转增': '0', '10股派息': '6.00', '股权登记日': '1998-06-04', '红股上市日': '1998-06-05'}]\n",
      "[{'公告日期': '2012-02-08', '配股方案': '10配3.00', '配股价': '14.38', '配股对象': '全体股东', '实际配股数': '15,376.89万', '配股前总股本': '51,989.17万', '实际配股比例': '2.96%', '配股上市日': '2012-02-27'}, {'公告日期': '2000-09-27', '配股方案': '10配3.00', '配股价': '10.00', '配股对象': '全体股东', '实际配股数': '341.47万', '配股前总股本': '11,382.17万', '实际配股比例': '0.30%', '配股上市日': '2000-12-01'}, {'公告日期': '1998-08-06', '配股方案': '10配3.00', '配股价': '12.00', '配股对象': '全体股东', '实际配股数': '1,455.52万', '配股前总股本': '7,300.00万', '实际配股比例': '1.99%', '配股上市日': '1998-09-30'}]\n",
      "[{'公告日期': '2014-12-31', '融资类型': '增发', '发行数量（万股）': '20,697', '募资总额（万元）': '0', '发行价格': '15.58', '发行方式': '采取非公开的发行方式。,向控股股东郑州宇通集团有限公司，向关联方猛狮客车有限公司非公开发行股份。', '股权登记日': '2014-12-26', '新股上市日': ''}]\n",
      "{'分红配股': [{'公告日期': '2021-05-17', '分红年度': '2020', '10股送股': '--', '10股转增': '--', '10股派息': '5.00', '股权登记日': '2021-05-20', '红股上市日': '2021-05-21'}, {'公告日期': '2020-05-14', '分红年度': '2019', '10股送股': '--', '10股转增': '--', '10股派息': '10.00', '股权登记日': '2020-05-19', '红股上市日': '2020-05-20'}, {'公告日期': '2019-05-09', '分红年度': '2018', '10股送股': '--', '10股转增': '--', '10股派息': '5.00', '股权登记日': '2019-05-14', '红股上市日': '2019-05-15'}, {'公告日期': '2018-07-20', '分红年度': '2017', '10股送股': '--', '10股转增': '--', '10股派息': '5.00', '股权登记日': '2018-07-26', '红股上市日': '2018-07-27'}, {'公告日期': '2017-06-06', '分红年度': '2016', '10股送股': '--', '10股转增': '--', '10股派息': '10.00', '股权登记日': '2017-06-13', '红股上市日': '2017-06-14'}, {'公告日期': '2016-05-13', '分红年度': '2015', '10股送股': '--', '10股转增': '--', '10股派息': '15.00', '股权登记日': '2016-05-20', '红股上市日': '2016-05-23'}, {'公告日期': '2015-05-14', '分红年度': '2014', '10股送股': '0', '10股转增': '5', '10股派息': '10.00', '股权登记日': '2015-05-19', '红股上市日': '2015-05-20'}, {'公告日期': '2014-05-20', '分红年度': '2013', '10股送股': '--', '10股转增': '--', '10股派息': '5.00', '股权登记日': '2014-05-23', '红股上市日': '2014-05-26'}, {'公告日期': '2013-05-09', '分红年度': '2012', '10股送股': '0', '10股转增': '8', '10股派息': '7.00', '股权登记日': '2013-05-14', '红股上市日': '2013-05-15'}, {'公告日期': '2012-05-03', '分红年度': '2011', '10股送股': '0', '10股转增': '0', '10股派息': '3.00', '股权登记日': '2012-05-08', '红股上市日': '2012-05-09'}, {'公告日期': '2011-05-10', '分红年度': '2010', '10股送股': '0', '10股转增': '0', '10股派息': '3.00', '股权登记日': '2011-05-13', '红股上市日': '2011-05-16'}, {'公告日期': '2010-05-12', '分红年度': '2009', '10股送股': '0', '10股转增': '0', '10股派息': '10.00', '股权登记日': '2010-05-17', '红股上市日': '2010-05-18'}, {'公告日期': '2009-05-11', '分红年度': '2008', '10股送股': '0', '10股转增': '0', '10股派息': '6.00', '股权登记日': '2009-05-14', '红股上市日': '2009-05-15'}, {'公告日期': '2008-05-09', '分红年度': '2007', '10股送股': '0', '10股转增': '3', '10股派息': '7.00', '股权登记日': '2008-05-14', '红股上市日': '2008-05-15'}, {'公告日期': '2007-03-30', '分红年度': '2006', '10股送股': '0', '10股转增': '0', '10股派息': '5.00', '股权登记日': '2007-04-04', '红股上市日': '2007-04-05'}, {'公告日期': '2006-04-14', '分红年度': '2005', '10股送股': '0', '10股转增': '5', '10股派息': '10.00', '股权登记日': '2006-04-19', '红股上市日': '2006-04-20'}, {'公告日期': '2005-04-13', '分红年度': '2004', '10股送股': '0', '10股转增': '3', '10股派息': '5.00', '股权登记日': '2005-04-18', '红股上市日': '2005-04-19'}, {'公告日期': '2004-04-09', '分红年度': '2003', '10股送股': '0', '10股转增': '5', '10股派息': '4.00', '股权登记日': '2004-04-14', '红股上市日': '2004-04-15'}, {'公告日期': '2002-04-08', '分红年度': '2001', '10股送股': '0', '10股转增': '0', '10股派息': '6.00', '股权登记日': '2002-04-11', '红股上市日': '2002-04-12'}, {'公告日期': '2001-07-03', '分红年度': '2000', '10股送股': '0', '10股转增': '0', '10股派息': '6.00', '股权登记日': '2001-07-09', '红股上市日': '2001-07-10'}, {'公告日期': '1999-06-30', '分红年度': '1998', '10股送股': '0', '10股转增': '0', '10股派息': '5.00', '股权登记日': '1999-07-05', '红股上市日': '1999-07-06'}, {'公告日期': '1998-10-06', '分红年度': '1998', '10股送股': '0', '10股转增': '3', '10股派息': '0.00', '股权登记日': '1998-10-09', '红股上市日': '1998-10-12'}, {'公告日期': '1998-06-02', '分红年度': '1997', '10股送股': '0', '10股转增': '0', '10股派息': '6.00', '股权登记日': '1998-06-04', '红股上市日': '1998-06-05'}], '配股一览': [{'公告日期': '2012-02-08', '配股方案': '10配3.00', '配股价': '14.38', '配股对象': '全体股东', '实际配股数': '15,376.89万', '配股前总股本': '51,989.17万', '实际配股比例': '2.96%', '配股上市日': '2012-02-27'}, {'公告日期': '2000-09-27', '配股方案': '10配3.00', '配股价': '10.00', '配股对象': '全体股东', '实际配股数': '341.47万', '配股前总股本': '11,382.17万', '实际配股比例': '0.30%', '配股上市日': '2000-12-01'}, {'公告日期': '1998-08-06', '配股方案': '10配3.00', '配股价': '12.00', '配股对象': '全体股东', '实际配股数': '1,455.52万', '配股前总股本': '7,300.00万', '实际配股比例': '1.99%', '配股上市日': '1998-09-30'}], '增发一览': [{'公告日期': '2014-12-31', '融资类型': '增发', '发行数量（万股）': '20,697', '募资总额（万元）': '0', '发行价格': '15.58', '发行方式': '采取非公开的发行方式。,向控股股东郑州宇通集团有限公司，向关联方猛狮客车有限公司非公开发行股份。', '股权登记日': '2014-12-26', '新股上市日': ''}]}\n"
     ]
    }
   ],
   "metadata": {}
  },
  {
   "cell_type": "code",
   "execution_count": 50,
   "source": [
    "print(info2)"
   ],
   "outputs": [
    {
     "output_type": "stream",
     "name": "stdout",
     "text": [
      "{'分红配股': [{'公告日期': '2021-05-17', '分红年度': '2020', '10股送股': '--', '10股转增': '--', '10股派息': '5.00', '股权登记日': '2021-05-20', '红股上市日': '2021-05-21'}, {'公告日期': '2020-05-14', '分红年度': '2019', '10股送股': '--', '10股转增': '--', '10股派息': '10.00', '股权登记日': '2020-05-19', '红股上市日': '2020-05-20'}, {'公告日期': '2019-05-09', '分红年度': '2018', '10股送股': '--', '10股转增': '--', '10股派息': '5.00', '股权登记日': '2019-05-14', '红股上市日': '2019-05-15'}, {'公告日期': '2018-07-20', '分红年度': '2017', '10股送股': '--', '10股转增': '--', '10股派息': '5.00', '股权登记日': '2018-07-26', '红股上市日': '2018-07-27'}, {'公告日期': '2017-06-06', '分红年度': '2016', '10股送股': '--', '10股转增': '--', '10股派息': '10.00', '股权登记日': '2017-06-13', '红股上市日': '2017-06-14'}, {'公告日期': '2016-05-13', '分红年度': '2015', '10股送股': '--', '10股转增': '--', '10股派息': '15.00', '股权登记日': '2016-05-20', '红股上市日': '2016-05-23'}, {'公告日期': '2015-05-14', '分红年度': '2014', '10股送股': '0', '10股转增': '5', '10股派息': '10.00', '股权登记日': '2015-05-19', '红股上市日': '2015-05-20'}, {'公告日期': '2014-05-20', '分红年度': '2013', '10股送股': '--', '10股转增': '--', '10股派息': '5.00', '股权登记日': '2014-05-23', '红股上市日': '2014-05-26'}, {'公告日期': '2013-05-09', '分红年度': '2012', '10股送股': '0', '10股转增': '8', '10股派息': '7.00', '股权登记日': '2013-05-14', '红股上市日': '2013-05-15'}, {'公告日期': '2012-05-03', '分红年度': '2011', '10股送股': '0', '10股转增': '0', '10股派息': '3.00', '股权登记日': '2012-05-08', '红股上市日': '2012-05-09'}, {'公告日期': '2011-05-10', '分红年度': '2010', '10股送股': '0', '10股转增': '0', '10股派息': '3.00', '股权登记日': '2011-05-13', '红股上市日': '2011-05-16'}, {'公告日期': '2010-05-12', '分红年度': '2009', '10股送股': '0', '10股转增': '0', '10股派息': '10.00', '股权登记日': '2010-05-17', '红股上市日': '2010-05-18'}, {'公告日期': '2009-05-11', '分红年度': '2008', '10股送股': '0', '10股转增': '0', '10股派息': '6.00', '股权登记日': '2009-05-14', '红股上市日': '2009-05-15'}, {'公告日期': '2008-05-09', '分红年度': '2007', '10股送股': '0', '10股转增': '3', '10股派息': '7.00', '股权登记日': '2008-05-14', '红股上市日': '2008-05-15'}, {'公告日期': '2007-03-30', '分红年度': '2006', '10股送股': '0', '10股转增': '0', '10股派息': '5.00', '股权登记日': '2007-04-04', '红股上市日': '2007-04-05'}, {'公告日期': '2006-04-14', '分红年度': '2005', '10股送股': '0', '10股转增': '5', '10股派息': '10.00', '股权登记日': '2006-04-19', '红股上市日': '2006-04-20'}, {'公告日期': '2005-04-13', '分红年度': '2004', '10股送股': '0', '10股转增': '3', '10股派息': '5.00', '股权登记日': '2005-04-18', '红股上市日': '2005-04-19'}, {'公告日期': '2004-04-09', '分红年度': '2003', '10股送股': '0', '10股转增': '5', '10股派息': '4.00', '股权登记日': '2004-04-14', '红股上市日': '2004-04-15'}, {'公告日期': '2002-04-08', '分红年度': '2001', '10股送股': '0', '10股转增': '0', '10股派息': '6.00', '股权登记日': '2002-04-11', '红股上市日': '2002-04-12'}, {'公告日期': '2001-07-03', '分红年度': '2000', '10股送股': '0', '10股转增': '0', '10股派息': '6.00', '股权登记日': '2001-07-09', '红股上市日': '2001-07-10'}, {'公告日期': '1999-06-30', '分红年度': '1998', '10股送股': '0', '10股转增': '0', '10股派息': '5.00', '股权登记日': '1999-07-05', '红股上市日': '1999-07-06'}, {'公告日期': '1998-10-06', '分红年度': '1998', '10股送股': '0', '10股转增': '3', '10股派息': '0.00', '股权登记日': '1998-10-09', '红股上市日': '1998-10-12'}, {'公告日期': '1998-06-02', '分红年度': '1997', '10股送股': '0', '10股转增': '0', '10股派息': '6.00', '股权登记日': '1998-06-04', '红股上市日': '1998-06-05'}], '配股一览': [{'公告日期': '2012-02-08', '配股方案': '10配3.00', '配股价': '14.38', '配股对象': '全体股东', '实际配股数': '15,376.89万', '配股前总股本': '51,989.17万', '实际配股比例': '2.96%', '配股上市日': '2012-02-27'}, {'公告日期': '2000-09-27', '配股方案': '10配3.00', '配股价': '10.00', '配股对象': '全体股东', '实际配股数': '341.47万', '配股前总股本': '11,382.17万', '实际配股比例': '0.30%', '配股上市日': '2000-12-01'}, {'公告日期': '1998-08-06', '配股方案': '10配3.00', '配股价': '12.00', '配股对象': '全体股东', '实际配股数': '1,455.52万', '配股前总股本': '7,300.00万', '实际配股比例': '1.99%', '配股上市日': '1998-09-30'}], '增发一览': [{'公告日期': '2014-12-31', '融资类型': '增发', '发行数量（万股）': '20,697', '募资总额（万元）': '0', '发行价格': '15.58', '发行方式': '采取非公开的发行方式。,向控股股东郑州宇通集团有限公司，向关联方猛狮客车有限公司非公开发行股份。', '股权登记日': '2014-12-26', '新股上市日': ''}]}\n"
     ]
    }
   ],
   "metadata": {}
  },
  {
   "cell_type": "code",
   "execution_count": 17,
   "source": [
    "dic1 = {'a':{'m':1,'n':2}, 'b':{'x':2}}\r\n",
    "print(dic1['a'])\r\n",
    "print(dic1['a']['m'])\r\n",
    "json.dumps(dic1)"
   ],
   "outputs": [
    {
     "output_type": "stream",
     "name": "stdout",
     "text": [
      "{'m': 1, 'n': 2}\n",
      "1\n"
     ]
    },
    {
     "output_type": "execute_result",
     "data": {
      "text/plain": [
       "'{\"a\": {\"m\": 1, \"n\": 2}, \"b\": {\"x\": 2}}'"
      ]
     },
     "metadata": {},
     "execution_count": 17
    }
   ],
   "metadata": {}
  },
  {
   "cell_type": "code",
   "execution_count": 40,
   "source": [
    "la = [1,2,3]\r\n",
    "lb = []\r\n",
    "lc = []\r\n",
    "ll = dict(zip(['a','b','c'],(la, lb, lc)))\r\n",
    "print(ll)"
   ],
   "outputs": [
    {
     "output_type": "stream",
     "name": "stdout",
     "text": [
      "{'a': [1, 2, 3], 'b': [], 'c': []}\n"
     ]
    }
   ],
   "metadata": {}
  }
 ],
 "metadata": {
  "kernelspec": {
   "name": "python3",
   "display_name": "Python 3.7.6 64-bit ('base': conda)"
  },
  "language_info": {
   "codemirror_mode": {
    "name": "ipython",
    "version": 3
   },
   "file_extension": ".py",
   "mimetype": "text/x-python",
   "name": "python",
   "nbconvert_exporter": "python",
   "pygments_lexer": "ipython3",
   "version": "3.7.6"
  },
  "interpreter": {
   "hash": "ecf5722fdaf1897a315d257d89d94520bfcaa453217d5becf09b39e73618b0de"
  }
 },
 "nbformat": 4,
 "nbformat_minor": 4
}