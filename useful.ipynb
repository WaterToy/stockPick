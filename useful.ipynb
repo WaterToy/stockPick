{
 "cells": [
  {
   "cell_type": "code",
   "execution_count": 1,
   "metadata": {},
   "outputs": [],
   "source": [
    "import os\n",
    "import requests\n",
    "import json\n",
    "import csv\n",
    "import re\n",
    "import pandas as pd\n",
    "from time import sleep\n",
    "import datetime"
   ]
  },
  {
   "cell_type": "code",
   "execution_count": 21,
   "metadata": {},
   "outputs": [
    {
     "name": "stdout",
     "output_type": "stream",
     "text": [
      "d:\\个人\\Python学习\\myspace\\stockPick\n",
      "d:\\个人\\Python学习\\myspace\\stockPick\n"
     ]
    },
    {
     "data": {
      "text/plain": [
       "'2022-01-17'"
      ]
     },
     "execution_count": 21,
     "metadata": {},
     "output_type": "execute_result"
    }
   ],
   "source": [
    "print(os.path.abspath(os.getcwd()))\n",
    "print(os.getcwd())\n",
    "os.path.dirname(os.getcwd())\n",
    "df = pd.read_csv(os.path.join(os.path.abspath(os.getcwd()),'stockName/zz500_stocks.csv'), encoding='gbk')\n",
    "df.tail(1).updateDate.values[0]"
   ]
  },
  {
   "cell_type": "code",
   "execution_count": 9,
   "metadata": {},
   "outputs": [],
   "source": [
    "def get_file_info(self, file_dir):\n",
    "    for root, dirs, files in os.walk(file_dir):\n",
    "        # print(root)\n",
    "        # print(dirs)\n",
    "        # print(files)\n",
    "        pass\n",
    "    return root, dirs, files"
   ]
  },
  {
   "cell_type": "code",
   "execution_count": 4,
   "metadata": {},
   "outputs": [
    {
     "data": {
      "text/plain": [
       "True"
      ]
     },
     "execution_count": 4,
     "metadata": {},
     "output_type": "execute_result"
    }
   ],
   "source": [
    "'''datetime.datetime.now()-datetime.timedelta(days=1)\n",
    "with open('t.csv', 'ab+') as w:\n",
    "    w.write('\\n'.encode('utf8'))\n",
    "    w.write('??'.encode('utf8'))\n",
    "w.close()'''\n",
    "\n",
    "stockhisData_dir = r'C:\\Users\\chenc\\OneDrive - whut.edu.cn\\个人\\AutoStock\\dataDownload\\sh600000.csv'\n",
    "os.path.exists(stockhisData_dir)"
   ]
  },
  {
   "cell_type": "code",
   "execution_count": null,
   "metadata": {},
   "outputs": [],
   "source": [
    "with open('b.csv', 'a+') as w:\n",
    "    w.write('haha')\n",
    "w.close()\n",
    "\n",
    "with open('b.csv', 'a+') as w:\n",
    "    w.write('haha')\n",
    "w.close()\n"
   ]
  }
 ],
 "metadata": {
  "interpreter": {
   "hash": "ecf5722fdaf1897a315d257d89d94520bfcaa453217d5becf09b39e73618b0de"
  },
  "kernelspec": {
   "display_name": "Python 3.7.6 64-bit ('base': conda)",
   "name": "python3"
  },
  "language_info": {
   "codemirror_mode": {
    "name": "ipython",
    "version": 3
   },
   "file_extension": ".py",
   "mimetype": "text/x-python",
   "name": "python",
   "nbconvert_exporter": "python",
   "pygments_lexer": "ipython3",
   "version": "3.7.4"
  }
 },
 "nbformat": 4,
 "nbformat_minor": 4
}
